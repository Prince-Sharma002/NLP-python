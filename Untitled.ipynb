{
 "cells": [
  {
   "cell_type": "code",
   "execution_count": 5,
   "id": "28b41d8c-a027-4e0e-8665-c450e5a5f0a0",
   "metadata": {},
   "outputs": [],
   "source": [
    "import spacy\n",
    "\n",
    "nlp = spacy.blank(\"en\")\n"
   ]
  },
  {
   "cell_type": "code",
   "execution_count": 6,
   "id": "b77cd0e2",
   "metadata": {},
   "outputs": [
    {
     "name": "stdout",
     "output_type": "stream",
     "text": [
      "prince@gmail.com\n",
      "rishab@gmail.com\n",
      "keshav@gmail.com\n"
     ]
    }
   ],
   "source": [
    "# file handing and exxtracting emails\n",
    "\n",
    "f = open(\"demo.txt\", \"r\")\n",
    "text = f.readlines()\n",
    "\n",
    "text = \" \".join(text)\n",
    "\n",
    "doc = nlp(text)\n",
    "for token in doc:\n",
    "    if token.like_email:\n",
    "        print(token.text)\n"
   ]
  },
  {
   "cell_type": "code",
   "execution_count": 10,
   "id": "ecae901e",
   "metadata": {},
   "outputs": [
    {
     "name": "stdout",
     "output_type": "stream",
     "text": [
      "तीन\n"
     ]
    }
   ],
   "source": [
    "# hindi\n",
    "\n",
    "nlp = spacy.blank(\"hi\")\n",
    "\n",
    "\n",
    "\n",
    "doc = nlp(\"आप कैसे हैं और क्या आपके पास तीन रंग हैं?\")\n",
    "for token in doc:\n",
    "    if token.like_num:\n",
    "        print(token.text)"
   ]
  }
 ],
 "metadata": {
  "kernelspec": {
   "display_name": "Python 3 (ipykernel)",
   "language": "python",
   "name": "python3"
  },
  "language_info": {
   "codemirror_mode": {
    "name": "ipython",
    "version": 3
   },
   "file_extension": ".py",
   "mimetype": "text/x-python",
   "name": "python",
   "nbconvert_exporter": "python",
   "pygments_lexer": "ipython3",
   "version": "3.12.2"
  }
 },
 "nbformat": 4,
 "nbformat_minor": 5
}
