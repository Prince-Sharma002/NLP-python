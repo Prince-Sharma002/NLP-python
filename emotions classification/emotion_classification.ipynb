{
 "cells": [
  {
   "cell_type": "markdown",
   "metadata": {},
   "source": [
    "# Emotions Classifier"
   ]
  },
  {
   "cell_type": "code",
   "execution_count": 1,
   "metadata": {},
   "outputs": [],
   "source": [
    "import spacy\n",
    "\n",
    "nlp = spacy.load(\"en_core_web_lg\")"
   ]
  },
  {
   "cell_type": "code",
   "execution_count": 2,
   "metadata": {},
   "outputs": [
    {
     "data": {
      "text/html": [
       "<div>\n",
       "<style scoped>\n",
       "    .dataframe tbody tr th:only-of-type {\n",
       "        vertical-align: middle;\n",
       "    }\n",
       "\n",
       "    .dataframe tbody tr th {\n",
       "        vertical-align: top;\n",
       "    }\n",
       "\n",
       "    .dataframe thead th {\n",
       "        text-align: right;\n",
       "    }\n",
       "</style>\n",
       "<table border=\"1\" class=\"dataframe\">\n",
       "  <thead>\n",
       "    <tr style=\"text-align: right;\">\n",
       "      <th></th>\n",
       "      <th>Unnamed: 0</th>\n",
       "      <th>text</th>\n",
       "      <th>label</th>\n",
       "    </tr>\n",
       "  </thead>\n",
       "  <tbody>\n",
       "    <tr>\n",
       "      <th>0</th>\n",
       "      <td>0</td>\n",
       "      <td>i just feel really helpless and heavy hearted</td>\n",
       "      <td>4</td>\n",
       "    </tr>\n",
       "    <tr>\n",
       "      <th>1</th>\n",
       "      <td>1</td>\n",
       "      <td>ive enjoyed being able to slouch about relax a...</td>\n",
       "      <td>0</td>\n",
       "    </tr>\n",
       "    <tr>\n",
       "      <th>2</th>\n",
       "      <td>2</td>\n",
       "      <td>i gave up my internship with the dmrg and am f...</td>\n",
       "      <td>4</td>\n",
       "    </tr>\n",
       "    <tr>\n",
       "      <th>3</th>\n",
       "      <td>3</td>\n",
       "      <td>i dont know i feel so lost</td>\n",
       "      <td>0</td>\n",
       "    </tr>\n",
       "    <tr>\n",
       "      <th>4</th>\n",
       "      <td>4</td>\n",
       "      <td>i am a kindergarten teacher and i am thoroughl...</td>\n",
       "      <td>4</td>\n",
       "    </tr>\n",
       "  </tbody>\n",
       "</table>\n",
       "</div>"
      ],
      "text/plain": [
       "   Unnamed: 0                                               text  label\n",
       "0           0      i just feel really helpless and heavy hearted      4\n",
       "1           1  ive enjoyed being able to slouch about relax a...      0\n",
       "2           2  i gave up my internship with the dmrg and am f...      4\n",
       "3           3                         i dont know i feel so lost      0\n",
       "4           4  i am a kindergarten teacher and i am thoroughl...      4"
      ]
     },
     "execution_count": 2,
     "metadata": {},
     "output_type": "execute_result"
    }
   ],
   "source": [
    "import pandas as pd\n",
    "\n",
    "df = pd.read_csv(\"./archive/text.csv\")\n",
    "\n",
    "df.head()"
   ]
  },
  {
   "cell_type": "code",
   "execution_count": 3,
   "metadata": {},
   "outputs": [
    {
     "data": {
      "text/plain": [
       "label\n",
       "1    141067\n",
       "0    121187\n",
       "3     57317\n",
       "4     47712\n",
       "2     34554\n",
       "5     14972\n",
       "Name: count, dtype: int64"
      ]
     },
     "execution_count": 3,
     "metadata": {},
     "output_type": "execute_result"
    }
   ],
   "source": [
    "df.label.value_counts()"
   ]
  },
  {
   "cell_type": "code",
   "execution_count": 4,
   "metadata": {},
   "outputs": [
    {
     "data": {
      "text/plain": [
       "label\n",
       "0    14972\n",
       "1    14972\n",
       "2    14972\n",
       "3    14972\n",
       "4    14972\n",
       "5    14972\n",
       "Name: count, dtype: int64"
      ]
     },
     "execution_count": 4,
     "metadata": {},
     "output_type": "execute_result"
    }
   ],
   "source": [
    "min_sample = 14972\n",
    "\n",
    "df_0 = df[df.label == 0 ].sample(min_sample , random_state=350)\n",
    "df_1 = df[df.label == 1 ].sample(min_sample , random_state=350)\n",
    "df_2 = df[df.label == 2 ].sample(min_sample , random_state=350)\n",
    "df_3 = df[df.label == 3 ].sample(min_sample , random_state=350)\n",
    "df_4 = df[df.label == 4 ].sample(min_sample , random_state=350)\n",
    "df_5 = df[df.label == 5 ].sample(min_sample , random_state=350)\n",
    "\n",
    "df_balance = pd.concat([df_0 , df_1 , df_2 , df_3 , df_4 , df_5])\n",
    "df_balance.label.value_counts()\n"
   ]
  },
  {
   "cell_type": "markdown",
   "metadata": {},
   "source": [
    "## Preprocessd Text"
   ]
  },
  {
   "cell_type": "code",
   "execution_count": 5,
   "metadata": {},
   "outputs": [
    {
     "name": "stdout",
     "output_type": "stream",
     "text": [
      "eat pizza\n"
     ]
    }
   ],
   "source": [
    "def prepreocessed(text):\n",
    "    doc = nlp(text)\n",
    "    return \" \".join([token.lemma_ for token in doc if not token.is_stop or token.is_punct])\n",
    "\n",
    "print(prepreocessed(\"i ate pizza\"))"
   ]
  },
  {
   "cell_type": "code",
   "execution_count": 6,
   "metadata": {},
   "outputs": [
    {
     "data": {
      "text/html": [
       "<div>\n",
       "<style scoped>\n",
       "    .dataframe tbody tr th:only-of-type {\n",
       "        vertical-align: middle;\n",
       "    }\n",
       "\n",
       "    .dataframe tbody tr th {\n",
       "        vertical-align: top;\n",
       "    }\n",
       "\n",
       "    .dataframe thead th {\n",
       "        text-align: right;\n",
       "    }\n",
       "</style>\n",
       "<table border=\"1\" class=\"dataframe\">\n",
       "  <thead>\n",
       "    <tr style=\"text-align: right;\">\n",
       "      <th></th>\n",
       "      <th>Unnamed: 0</th>\n",
       "      <th>text</th>\n",
       "      <th>label</th>\n",
       "      <th>preocessedText</th>\n",
       "    </tr>\n",
       "  </thead>\n",
       "  <tbody>\n",
       "    <tr>\n",
       "      <th>157443</th>\n",
       "      <td>157443</td>\n",
       "      <td>i feel like im at least trying to be a little ...</td>\n",
       "      <td>0</td>\n",
       "      <td>feel like m try little low fat</td>\n",
       "    </tr>\n",
       "    <tr>\n",
       "      <th>239050</th>\n",
       "      <td>239050</td>\n",
       "      <td>im leaving the group because im not playing we...</td>\n",
       "      <td>0</td>\n",
       "      <td>m leave group m play feel unloved close</td>\n",
       "    </tr>\n",
       "    <tr>\n",
       "      <th>122976</th>\n",
       "      <td>122976</td>\n",
       "      <td>i definitely didn t think that what we had was...</td>\n",
       "      <td>0</td>\n",
       "      <td>definitely didn t think seemingly easily turn ...</td>\n",
       "    </tr>\n",
       "    <tr>\n",
       "      <th>227167</th>\n",
       "      <td>227167</td>\n",
       "      <td>i dont know whether to be happy that i can be ...</td>\n",
       "      <td>0</td>\n",
       "      <td>not know happy strong feel devastated m damn g...</td>\n",
       "    </tr>\n",
       "    <tr>\n",
       "      <th>192152</th>\n",
       "      <td>192152</td>\n",
       "      <td>i do love selling but i feel i have been beate...</td>\n",
       "      <td>0</td>\n",
       "      <td>love selling feel beat far don t interest anym...</td>\n",
       "    </tr>\n",
       "  </tbody>\n",
       "</table>\n",
       "</div>"
      ],
      "text/plain": [
       "        Unnamed: 0                                               text  label  \\\n",
       "157443      157443  i feel like im at least trying to be a little ...      0   \n",
       "239050      239050  im leaving the group because im not playing we...      0   \n",
       "122976      122976  i definitely didn t think that what we had was...      0   \n",
       "227167      227167  i dont know whether to be happy that i can be ...      0   \n",
       "192152      192152  i do love selling but i feel i have been beate...      0   \n",
       "\n",
       "                                           preocessedText  \n",
       "157443                     feel like m try little low fat  \n",
       "239050            m leave group m play feel unloved close  \n",
       "122976  definitely didn t think seemingly easily turn ...  \n",
       "227167  not know happy strong feel devastated m damn g...  \n",
       "192152  love selling feel beat far don t interest anym...  "
      ]
     },
     "execution_count": 6,
     "metadata": {},
     "output_type": "execute_result"
    }
   ],
   "source": [
    "df_balance[\"preocessedText\"] = df_balance[\"text\"].apply(prepreocessed)\n",
    "df_balance.head()"
   ]
  },
  {
   "cell_type": "code",
   "execution_count": 7,
   "metadata": {},
   "outputs": [],
   "source": [
    "from sklearn.model_selection import train_test_split\n",
    "\n",
    "X_train, X_test, y_train, y_test = train_test_split(df_balance.text, df_balance.label, test_size=0.2, random_state=42 , stratify=df_balance.label   )\n",
    "\n"
   ]
  },
  {
   "cell_type": "code",
   "execution_count": 8,
   "metadata": {},
   "outputs": [
    {
     "name": "stdout",
     "output_type": "stream",
     "text": [
      "              precision    recall  f1-score   support\n",
      "\n",
      "           0       0.91      0.86      0.88      2994\n",
      "           1       0.86      0.80      0.83      2994\n",
      "           2       0.84      0.90      0.87      2995\n",
      "           3       0.90      0.88      0.89      2995\n",
      "           4       0.83      0.84      0.84      2995\n",
      "           5       0.85      0.90      0.87      2994\n",
      "\n",
      "    accuracy                           0.86     17967\n",
      "   macro avg       0.86      0.86      0.86     17967\n",
      "weighted avg       0.86      0.86      0.86     17967\n",
      "\n",
      "text is :  [2]\n"
     ]
    }
   ],
   "source": [
    "from sklearn.feature_extraction.text import CountVectorizer\n",
    "\n",
    "v = CountVectorizer()\n",
    "\n",
    "from sklearn.naive_bayes import MultinomialNB\n",
    "from sklearn.pipeline import Pipeline\n",
    "from sklearn.metrics import classification_report\n",
    "\n",
    "\n",
    "clf = Pipeline(\n",
    "    [\n",
    "        (\"vectorizer_bow\" , CountVectorizer()),\n",
    "        (\"Multi NB\" , MultinomialNB())\n",
    "    ]\n",
    ")\n",
    "\n",
    "\n",
    "clf.fit(X_train , y_train)\n",
    "\n",
    "y_pred = clf.predict(X_test)\n",
    "\n",
    "print(classification_report(y_test, y_pred))\n",
    "\n",
    "text = [\"i have interest in someone\"]\n",
    "\n",
    "# Use the pipeline to predict the emotion\n",
    "predicted_emotion = clf.predict(text)\n",
    "\n",
    "print( \"text is : \" , predicted_emotion)"
   ]
  }
 ],
 "metadata": {
  "kernelspec": {
   "display_name": "Python 3",
   "language": "python",
   "name": "python3"
  },
  "language_info": {
   "codemirror_mode": {
    "name": "ipython",
    "version": 3
   },
   "file_extension": ".py",
   "mimetype": "text/x-python",
   "name": "python",
   "nbconvert_exporter": "python",
   "pygments_lexer": "ipython3",
   "version": "3.12.2"
  }
 },
 "nbformat": 4,
 "nbformat_minor": 2
}
