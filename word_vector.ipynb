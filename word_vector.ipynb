{
 "cells": [
  {
   "cell_type": "code",
   "execution_count": 1,
   "metadata": {},
   "outputs": [],
   "source": [
    "import spacy \n",
    "\n",
    "nlp = spacy.load(\"en_core_web_lg\")\n"
   ]
  },
  {
   "cell_type": "code",
   "execution_count": 6,
   "metadata": {},
   "outputs": [
    {
     "name": "stdout",
     "output_type": "stream",
     "text": [
      "dog vector :  True oov :  False\n",
      "cat vector :  True oov :  False\n",
      "tiger vector :  True oov :  False\n",
      "banana vector :  True oov :  False\n",
      "asdsadhs vector :  False oov :  True\n"
     ]
    }
   ],
   "source": [
    "doc = nlp(\"dog cat tiger banana asdsadhs\")\n",
    "\n",
    "for token in doc:\n",
    "    print(token.text, \"vector : \" ,  token.has_vector, \"oov : \" ,  token.is_oov)"
   ]
  },
  {
   "cell_type": "code",
   "execution_count": 7,
   "metadata": {},
   "outputs": [
    {
     "data": {
      "text/plain": [
       "(300,)"
      ]
     },
     "execution_count": 7,
     "metadata": {},
     "output_type": "execute_result"
    }
   ],
   "source": [
    "doc[0].vector.shape"
   ]
  },
  {
   "cell_type": "code",
   "execution_count": 9,
   "metadata": {},
   "outputs": [
    {
     "data": {
      "text/plain": [
       "(300,)"
      ]
     },
     "execution_count": 9,
     "metadata": {},
     "output_type": "execute_result"
    }
   ],
   "source": [
    "base_token = nlp(\"king\")\n",
    "base_token.vector.shape"
   ]
  },
  {
   "cell_type": "code",
   "execution_count": 11,
   "metadata": {},
   "outputs": [
    {
     "name": "stdout",
     "output_type": "stream",
     "text": [
      " my <-> king 0.10375532495685752\n",
      " name <-> king 0.26882204661744186\n",
      " is <-> king 0.1419244997647866\n",
      " prince <-> king 0.7827692319745013\n",
      " sharma <-> king 0.26695495040187905\n"
     ]
    }
   ],
   "source": [
    "doc = nlp(\"my name is prince sharma\")\n",
    "\n",
    "for token in doc:\n",
    "    print(f\" {token.text} <-> {base_token.text}\" , token.similarity(base_token))"
   ]
  },
  {
   "cell_type": "code",
   "execution_count": 14,
   "metadata": {},
   "outputs": [
    {
     "name": "stdout",
     "output_type": "stream",
     "text": [
      "there <-> dog 0.1341027467648279\n",
      "is <-> dog 0.047817965787137005\n",
      "a <-> dog 0.08992264695212479\n",
      "dog <-> dog 1.0\n",
      "and <-> dog 0.02349545626871795\n",
      "cat <-> dog 0.8220816450705921\n",
      "in <-> dog -0.09149555279890029\n",
      "building <-> dog -0.003522398635476264\n"
     ]
    }
   ],
   "source": [
    "def print_similarity(base_token, words_to_compare):\n",
    "    base_token = nlp(base_token)\n",
    "    doc = nlp(words_to_compare)\n",
    "    for word in doc:\n",
    "        print(f\"{word} <-> {base_token.text}\" , base_token.similarity(word))\n",
    "\n",
    "print_similarity(\"dog\" , \"there is a dog and cat in building\")\n",
    "              "
   ]
  }
 ],
 "metadata": {
  "kernelspec": {
   "display_name": "Python 3",
   "language": "python",
   "name": "python3"
  },
  "language_info": {
   "codemirror_mode": {
    "name": "ipython",
    "version": 3
   },
   "file_extension": ".py",
   "mimetype": "text/x-python",
   "name": "python",
   "nbconvert_exporter": "python",
   "pygments_lexer": "ipython3",
   "version": "3.12.2"
  }
 },
 "nbformat": 4,
 "nbformat_minor": 2
}
